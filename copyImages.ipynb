{
 "cells": [
  {
   "cell_type": "code",
   "execution_count": 6,
   "metadata": {},
   "outputs": [],
   "source": [
    "%matplotlib notebook\n",
    "\n",
    "import cv2\n",
    "from matplotlib import pyplot as plt\n",
    "import skimage.io\n",
    "import numpy as np\n",
    "import os\n",
    "from shutil import copyfile\n",
    "from tqdm import tqdm_notebook as tqdm"
   ]
  },
  {
   "cell_type": "markdown",
   "metadata": {},
   "source": [
    "# Load images (DARKNET)"
   ]
  },
  {
   "cell_type": "code",
   "execution_count": 12,
   "metadata": {},
   "outputs": [
    {
     "data": {
      "application/vnd.jupyter.widget-view+json": {
       "model_id": "2f3bcd747dca48eabce4115727a93925",
       "version_major": 2,
       "version_minor": 0
      },
      "text/plain": [
       "HBox(children=(IntProgress(value=0, max=43198), HTML(value='')))"
      ]
     },
     "metadata": {},
     "output_type": "display_data"
    },
    {
     "name": "stdout",
     "output_type": "stream",
     "text": [
      "(3242, 39955)\n"
     ]
    }
   ],
   "source": [
    "def load_images_from_folder(path):\n",
    "    \n",
    "    os.mkdir( \"images_and_gt\")\n",
    "    os.mkdir( \"images_and_gt/images\")\n",
    "    os.mkdir( \"images_and_gt/groundtruth\")\n",
    "    \n",
    "    train_txt = open(\"images_and_gt/train.txt\",\"w\") \n",
    "    paths = os.listdir(path)\n",
    "    valid = 0\n",
    "    non_valid = 0\n",
    "    for x in tqdm(range(len(paths))):\n",
    "        path = paths[x]\n",
    "        if path.endswith('.txt'):\n",
    "            if os.stat(\"OpenLabeling/main/output/YOLO_darknet/\"+path).st_size > 0:\n",
    "                valid += 1\n",
    "                copyfile(\"OpenLabeling/main/output/YOLO_darknet/\" + path, \"images_and_gt/groundtruth/\" + path)\n",
    "                image = cv2.imread(\"OpenLabeling/main/input/\" + path[:-4] + \".png\")\n",
    "                cv2.imwrite(\"images_and_gt/images/\" + path[:-4] + \".jpg\", image)\n",
    "                train_txt.write(\"x64/Release/data/img_train/\" + path[:-4] + \".jpg\\n\")\n",
    "            else:\n",
    "                non_valid += 1\n",
    "    train_txt.close()\n",
    "    return valid, non_valid\n",
    "\n",
    "x = load_images_from_folder(\"OpenLabeling/main/output/YOLO_darknet/\")\n",
    "print (x)"
   ]
  },
  {
   "cell_type": "code",
   "execution_count": null,
   "metadata": {},
   "outputs": [],
   "source": []
  },
  {
   "cell_type": "code",
   "execution_count": null,
   "metadata": {},
   "outputs": [],
   "source": []
  }
 ],
 "metadata": {
  "kernelspec": {
   "display_name": "Python 3",
   "language": "python",
   "name": "python3"
  },
  "language_info": {
   "codemirror_mode": {
    "name": "ipython",
    "version": 3
   },
   "file_extension": ".py",
   "mimetype": "text/x-python",
   "name": "python",
   "nbconvert_exporter": "python",
   "pygments_lexer": "ipython3",
   "version": "3.5.2"
  }
 },
 "nbformat": 4,
 "nbformat_minor": 2
}
