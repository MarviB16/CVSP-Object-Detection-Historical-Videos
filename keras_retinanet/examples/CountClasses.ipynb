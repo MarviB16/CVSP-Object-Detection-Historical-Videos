{
 "cells": [
  {
   "cell_type": "code",
   "execution_count": 14,
   "metadata": {},
   "outputs": [
    {
     "name": "stdout",
     "output_type": "stream",
     "text": [
      "/caa/Homes01/mburges/CVSP-Object-Detection-Historical-Videos/keras-retinanet/examples\n",
      "Soldier: 1035 Civilian: 1135\n"
     ]
    }
   ],
   "source": [
    "import os, cv2\n",
    "import xml.etree.ElementTree as ET\n",
    "print (os.getcwd()) \n",
    "\n",
    "soldier = 0\n",
    "civilian = 0\n",
    "\n",
    "path = \"/caa/Homes01/mburges/CVSP-Object-Detection-Historical-Videos/VOCTemplate/VOC2019/Annotations/\"\n",
    "for file in os.listdir(path):\n",
    "    if file.endswith(\".xml\"):\n",
    "        root = ET.parse(path + file).getroot()\n",
    "        for child in root:\n",
    "            if(child.tag == \"object\"):\n",
    "                if(child.find('name').text == \"soldier\"):\n",
    "                    soldier += 1\n",
    "                if(child.find('name').text == \"civilian\"):\n",
    "                    civilian += 1\n",
    "\n",
    "print (\"Soldier:\", soldier, \"Civilian:\", civilian)\n",
    "        \n",
    "        \n"
   ]
  },
  {
   "cell_type": "code",
   "execution_count": null,
   "metadata": {},
   "outputs": [],
   "source": []
  }
 ],
 "metadata": {
  "kernelspec": {
   "display_name": "env_unet",
   "language": "python",
   "name": "build_central"
  },
  "language_info": {
   "codemirror_mode": {
    "name": "ipython",
    "version": 3
   },
   "file_extension": ".py",
   "mimetype": "text/x-python",
   "name": "python",
   "nbconvert_exporter": "python",
   "pygments_lexer": "ipython3",
   "version": "3.7.0"
  }
 },
 "nbformat": 4,
 "nbformat_minor": 2
}
